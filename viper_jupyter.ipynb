{
 "cells": [
  {
   "cell_type": "code",
   "execution_count": 1,
   "metadata": {},
   "outputs": [],
   "source": [
    "import glob\n",
    "\n",
    "import numpy as np\n",
    "from scipy.interpolate import interp1d\n",
    "from scipy.optimize import curve_fit\n",
    "from astropy.io import fits\n"
   ]
  },
  {
   "cell_type": "code",
   "execution_count": 2,
   "metadata": {},
   "outputs": [
    {
     "name": "stdout",
     "output_type": "stream",
     "text": [
      "4.4.1\n"
     ]
    },
    {
     "data": {
      "text/html": [
       "        <script type=\"text/javascript\">\n",
       "        window.PlotlyConfig = {MathJaxConfig: 'local'};\n",
       "        if (window.MathJax) {MathJax.Hub.Config({SVG: {font: \"STIX-Web\"}});}\n",
       "        if (typeof require !== 'undefined') {\n",
       "        require.undef(\"plotly\");\n",
       "        requirejs.config({\n",
       "            paths: {\n",
       "                'plotly': ['https://cdn.plot.ly/plotly-latest.min']\n",
       "            }\n",
       "        });\n",
       "        require(['plotly'], function(Plotly) {\n",
       "            window._Plotly = Plotly;\n",
       "        });\n",
       "        }\n",
       "        </script>\n",
       "        "
      ]
     },
     "metadata": {},
     "output_type": "display_data"
    }
   ],
   "source": [
    "import plotly as py\n",
    "import plotly.graph_objs as go\n",
    "import ipywidgets as widgets\n",
    "import numpy as np\n",
    "from plotly.offline import download_plotlyjs,init_notebook_mode,plot,iplot\n",
    "from plotly import subplots\n",
    "from plotly  import __version__\n",
    "print(__version__)\n",
    "\n",
    "py.offline.init_notebook_mode(connected=True)"
   ]
  },
  {
   "cell_type": "code",
   "execution_count": 3,
   "metadata": {},
   "outputs": [],
   "source": [
    "#%matplotlib notebook\n",
    "%matplotlib inline\n",
    "\n",
    "import matplotlib.pylab as plt\n"
   ]
  },
  {
   "cell_type": "code",
   "execution_count": 4,
   "metadata": {},
   "outputs": [],
   "source": [
    "from inst.inst_TLS import Spectrum, Tpl, FTS\n",
    "import vpr\n"
   ]
  },
  {
   "cell_type": "code",
   "execution_count": 5,
   "metadata": {},
   "outputs": [],
   "source": [
    "import numpy as np\n",
    "from scipy import interpolate\n",
    "\n",
    "\n",
    "c = 3e5   # [km/s] speed of light\n",
    "\n",
    "# IP sampling in velocity space\n",
    "# index k for IP space\n",
    "def IP(vk, s=2.2):\n",
    "    IP_k = np.exp(-(vk/s)**2)   # Gauss IP\n",
    "    IP_k /= IP_k.sum()          # normalise IP\n",
    "    return IP_k\n",
    "\n",
    "\n",
    "class model:\n",
    "    '''\n",
    "    The forward model\n",
    "    \n",
    "    '''\n",
    "    def __init__(self, *args, IP_hw=50):\n",
    "        self.S_star, self.xj, self.iod_j, self.IP = args\n",
    "        # convolving with IP will reduce the valid wavelength range\n",
    "        self.dx = self.xj[1] - self.xj[0]  # sampling in uniform resampled Iod\n",
    "        self.vk = np.arange(-IP_hw,IP_hw+1) * self.dx * c\n",
    "        self.xj_eff = self.xj[IP_hw:-IP_hw]\n",
    "        #print(\"sampling [km/s]:\", self.dx*c)\n",
    "\n",
    "    def __call__(self, i, v, a, b, s):\n",
    "        # wavelength solution\n",
    "        xi = np.log(np.poly1d(b[::-1])(i))\n",
    "        # IP convolution\n",
    "        Sj_eff = np.convolve(self.IP(self.vk, s), self.S_star(self.xj+v/c) * self.iod_j, mode='valid')\n",
    "        # sampling to pixel\n",
    "        Si_eff = interpolate.interp1d(self.xj_eff, Sj_eff)(xi)\n",
    "        # flux normalisation\n",
    "        Si_mod = np.poly1d(a[::-1])(xi) * Si_eff\n",
    "        return Si_mod\n",
    "    \n",
    "\n",
    "\n",
    "def show_model(x, y, ymod, res=True,x2=1):\n",
    "    if res:\n",
    "        rms = np.std(y-ymod)\n",
    "\n",
    "        trace0 = go.Scatter(x=x,\n",
    "                   y=y,\n",
    "                   mode='markers+lines',\n",
    "                   name='observed',\n",
    "                   marker=dict(size=12,color='rgba(155,60,0,0.5)'))\n",
    "        trace1 = go.Scatter(x=x,\n",
    "                   y=ymod,\n",
    "                   mode='markers+lines',\n",
    "                   name='modelled',\n",
    "                   marker=dict(size=12,color='rgba(55,60,155,0.8)'))\n",
    "\n",
    "        trace2 = go.Scatter(x=x,\n",
    "                           y=y-ymod,\n",
    "                           mode='markers',\n",
    "                           name='residual spectrum',\n",
    "                           marker=dict(size=12,color='rgba(0,190,255,0.9)'))\n",
    "\n",
    "        fig = subplots.make_subplots(rows=2,\n",
    "                                 cols=1,\n",
    "                                 subplot_titles=('Model','residual'))\n",
    "\n",
    "        fig.append_trace(trace0,1,1)\n",
    "        fig.add_trace(trace1,1,1)\n",
    "\n",
    "        fig.append_trace(trace2,2,1)\n",
    "\n",
    "        fig.layout.update(title=\"Modelling of the spectrum\")\n",
    "\n",
    "        iplot(fig)\n",
    "        \n",
    "    else:\n",
    "        rms = np.std(y-ymod)\n",
    "\n",
    "        trace0 = go.Scatter(x=x,\n",
    "                   y=y,\n",
    "                   mode='markers+lines',\n",
    "                   name='observed',\n",
    "                   marker=dict(size=12,color='rgba(155,60,0,0.5)'))\n",
    "        trace1 = go.Scatter(x=x,\n",
    "                   y=ymod,\n",
    "                   mode='markers+lines',\n",
    "                   name='modelled',\n",
    "                   marker=dict(size=12,color='rgba(55,60,155,0.8)'))\n",
    "\n",
    "\n",
    "        fig = subplots.make_subplots(rows=1,\n",
    "                                 cols=1,\n",
    "                                 subplot_titles=('Model'))\n",
    "\n",
    "        \n",
    "        fig.append_trace(trace0,1,1)\n",
    "        fig.add_trace(trace1,1,1)\n",
    "\n",
    "\n",
    "        fig.layout.update(title=\"Modelling of the spectrum\")\n",
    "\n",
    "        iplot(fig)"
   ]
  },
  {
   "cell_type": "code",
   "execution_count": 6,
   "metadata": {},
   "outputs": [],
   "source": [
    "c = 3e5   # [km/s] speed of light\n",
    "\n",
    "o = 18; lmin = 5240; lmax = 5390\n",
    "\n",
    "dirname = r''\n",
    "v0 = -12\n",
    "ftsname = dirname + 'lib/TLS/FTS/TLS_I2_FTS.fits'\n",
    "obsname = dirname + 'data/TLS/betgem/BETA_GEM.fits'\n",
    "tplname = dirname + 'data/TLS/betgem/pepsib.20150409.000.sxt.awl.all6'\n",
    "obsname = dirname + 'data/TLS/hd189733/TV00001.fits'\n",
    "tplname = dirname + 'data/TLS/Deconv/HD189733.model'\n",
    "tplname = dirname + 'data/TLS/Deconv/HARPS.2006-09-08T02:12:38.604_s1d_A.fits'\n",
    "\n",
    "nset = None\n"
   ]
  },
  {
   "cell_type": "code",
   "execution_count": 7,
   "metadata": {},
   "outputs": [
    {
     "name": "stderr",
     "output_type": "stream",
     "text": [
      "WARNING: The following header keyword is invalid or follows an unrecognized non-standard convention:\n",
      "ID      ='File ratio of scans 002 & 001                                       '  [astropy.io.fits.card]\n",
      "WARNING: The following header keyword is invalid or follows an unrecognized non-standard convention:\n",
      "DAY     ='07/24/01  '           / Date (mm/dd/yy, MST)                           [astropy.io.fits.card]\n"
     ]
    }
   ],
   "source": [
    "####  FTS  ####\n",
    "\n",
    "# using the supersampled log(wavelength) space with knot index j\n",
    "\n",
    "w_I2, f_I2, xj_full, iod_j_full = FTS()\n",
    "\n"
   ]
  },
  {
   "cell_type": "code",
   "execution_count": 8,
   "metadata": {},
   "outputs": [
    {
     "name": "stdout",
     "output_type": "stream",
     "text": [
      "[18]\n"
     ]
    }
   ],
   "source": [
    "\n",
    "orders = np.r_[18:19] # np.arange(18,30)\n",
    "print(orders)\n"
   ]
  },
  {
   "cell_type": "code",
   "execution_count": 9,
   "metadata": {},
   "outputs": [],
   "source": [
    "rv = np.empty_like(orders*1.) * np.nan\n",
    "e_rv = np.empty_like(orders*1.) * np.nan\n",
    "\n"
   ]
  },
  {
   "cell_type": "code",
   "execution_count": 10,
   "metadata": {},
   "outputs": [],
   "source": [
    "obsname = '/home/sireesha/Desktop/TLS_model/stage10/VIPER/data/TLS/hd189733/TV00001.fits'"
   ]
  },
  {
   "cell_type": "code",
   "execution_count": 11,
   "metadata": {},
   "outputs": [],
   "source": [
    "tplname='/home/sireesha/Desktop/TLS_model/stage10/VIPER/data/TLS/Deconv/HARPS.2006-09-08T02:12:38.604_s1d_A.fits'"
   ]
  },
  {
   "cell_type": "code",
   "execution_count": 12,
   "metadata": {},
   "outputs": [],
   "source": [
    "####  data TLS  ####\n",
    "w_i, f_i, bp, bjd, berv = Spectrum(obsname, o=o)\n",
    "i = np.arange(f_i.size)\n",
    "\n",
    "####  stellar template  ####\n",
    "w_tpl, f_tpl = Tpl(tplname, o=o)\n",
    "\n",
    "lmin = max(w_tpl[0], w_i[0], w_I2[0])\n",
    "lmax = min(w_tpl[-1], w_i[-1], w_I2[-1])\n",
    "\n",
    "# display\n",
    "# pre-look raw input\n",
    "s = slice(*np.searchsorted(w_I2, [lmin, lmax]))\n",
    "s_s = slice(*np.searchsorted(w_tpl, [lmin, lmax]))\n",
    "\n"
   ]
  },
  {
   "cell_type": "code",
   "execution_count": 13,
   "metadata": {},
   "outputs": [],
   "source": [
    "obsname = '/home/sireesha/Desktop/TLS_model/stage10/VIPER/data/TLS/hd189733/TV00001.fits'\n",
    "\n",
    "tplname='/home/sireesha/Desktop/TLS_model/stage10/VIPER/data/TLS/Deconv/HARPS.2006-09-08T02:12:38.604_s1d_A.fits'\n",
    "\n",
    "####  data TLS  ####\n",
    "w_i, f_i, bp, bjd, berv = Spectrum(obsname, o=o)\n",
    "i = np.arange(f_i.size)\n",
    "\n",
    "####  stellar template  ####\n",
    "w_tpl, f_tpl = Tpl(tplname, o=o)\n",
    "\n",
    "lmin = max(w_tpl[0], w_i[0], w_I2[0])\n",
    "lmax = min(w_tpl[-1], w_i[-1], w_I2[-1])\n",
    "\n",
    "# display\n",
    "# pre-look raw input\n",
    "s = slice(*np.searchsorted(w_I2, [lmin, lmax]))\n",
    "s_s = slice(*np.searchsorted(w_tpl, [lmin, lmax]))\n",
    "\n"
   ]
  },
  {
   "cell_type": "code",
   "execution_count": null,
   "metadata": {},
   "outputs": [],
   "source": []
  }
 ],
 "metadata": {
  "kernelspec": {
   "display_name": "Python 3",
   "language": "python",
   "name": "python3"
  },
  "language_info": {
   "codemirror_mode": {
    "name": "ipython",
    "version": 3
   },
   "file_extension": ".py",
   "mimetype": "text/x-python",
   "name": "python",
   "nbconvert_exporter": "python",
   "pygments_lexer": "ipython3",
   "version": "3.7.4"
  }
 },
 "nbformat": 4,
 "nbformat_minor": 4
}
